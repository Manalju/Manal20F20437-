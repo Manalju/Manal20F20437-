{
  "nbformat": 4,
  "nbformat_minor": 0,
  "metadata": {
    "colab": {
      "provenance": []
    },
    "kernelspec": {
      "name": "python3",
      "display_name": "Python 3"
    },
    "language_info": {
      "name": "python"
    }
  },
  "cells": [
    {
      "cell_type": "code",
      "execution_count": 1,
      "metadata": {
        "colab": {
          "base_uri": "https://localhost:8080/"
        },
        "id": "U2aJmuYQnq3i",
        "outputId": "81018c86-aeaa-4752-856f-cf5e38170964"
      },
      "outputs": [
        {
          "output_type": "stream",
          "name": "stdout",
          "text": [
            "Mounted at /content/drive\n"
          ]
        }
      ],
      "source": [
        "#My dataset is available in googledrive; so I am accessing my drive from colab\n",
        "from google.colab import drive\n",
        "drive.mount('/content/drive', force_remount=True)\n",
        "#Once this is executed, you will see your drive appearing on the left hand side"
      ]
    },
    {
      "cell_type": "code",
      "source": [
        "# Define paths to the dataset\n",
        "train_dir = '/content/drive/MyDrive/train'  # Update with your actual path\n",
        "test_dir = '/content/drive/MyDrive/test'    # Update with your actual path"
      ],
      "metadata": {
        "id": "JFKwFt03ojgJ"
      },
      "execution_count": 2,
      "outputs": []
    },
    {
      "cell_type": "code",
      "source": [
        "import os\n",
        "print(len(os.listdir('/content/drive/MyDrive/train/not_pizza')))\n",
        "print(len(os.listdir('/content/drive/MyDrive/train/pizza')))\n",
        "print(len(os.listdir('/content/drive/MyDrive/test/not_pizza')))\n",
        "print(len(os.listdir('/content/drive/MyDrive/test/pizza')))"
      ],
      "metadata": {
        "colab": {
          "base_uri": "https://localhost:8080/"
        },
        "id": "Wj3cl28Cow49",
        "outputId": "14db34b0-b01f-479b-a4f5-1d6ac7e37742"
      },
      "execution_count": 3,
      "outputs": [
        {
          "output_type": "stream",
          "name": "stdout",
          "text": [
            "800\n",
            "800\n",
            "183\n",
            "183\n"
          ]
        }
      ]
    },
    {
      "cell_type": "code",
      "source": [
        "import tensorflow as tf\n",
        "from tensorflow.keras.preprocessing.image import ImageDataGenerator\n",
        "\n",
        "# Create ImageDataGenerator for training set\n",
        "train_datagen = ImageDataGenerator(\n",
        "    rescale=1./255,\n",
        "    validation_split=0.2  # Split 20% of the images for validation\n",
        ")\n",
        "\n",
        "# Load and prepare training data\n",
        "train_data = train_datagen.flow_from_directory(\n",
        "    train_dir,\n",
        "    target_size=(256,256),\n",
        "    batch_size=32,\n",
        "    class_mode='binary',  # 'binary' for binary classification (Pizaa vs. not pizza)\n",
        "    subset='training'  # Specify 'training' for the training set\n",
        ")\n",
        "\n",
        "# Create ImageDataGenerator for validation set\n",
        "validation_datagen = ImageDataGenerator(\n",
        "    rescale=1./255,\n",
        "    validation_split=0.2  # Note: Using the same validation split as in the training set\n",
        ")\n",
        "\n",
        "# Load and prepare validation data\n",
        "validation_data = validation_datagen.flow_from_directory(\n",
        "    train_dir,\n",
        "    target_size=(256,256),\n",
        "    batch_size=32,\n",
        "    class_mode='binary',\n",
        "    subset='validation'  # Specify 'validation' for the validation set\n",
        ")"
      ],
      "metadata": {
        "colab": {
          "base_uri": "https://localhost:8080/"
        },
        "id": "sTY7Hr0GpL9V",
        "outputId": "2804f192-eb57-43db-b8a7-45ed0f1b7872"
      },
      "execution_count": 4,
      "outputs": [
        {
          "output_type": "stream",
          "name": "stdout",
          "text": [
            "Found 1280 images belonging to 2 classes.\n",
            "Found 320 images belonging to 2 classes.\n"
          ]
        }
      ]
    },
    {
      "cell_type": "code",
      "source": [
        "from tensorflow import keras\n",
        "from keras import Sequential\n",
        "from keras.layers import Dense,Conv2D,MaxPooling2D,Flatten,BatchNormalization,UpSampling2D, Dropout"
      ],
      "metadata": {
        "id": "xPc6bVS9pYau"
      },
      "execution_count": 5,
      "outputs": []
    },
    {
      "cell_type": "code",
      "source": [
        "# create CNN model\n",
        "\n",
        "model = Sequential()\n",
        "\n",
        "model.add(Conv2D(32,kernel_size=(3,3),padding='valid',activation='relu',input_shape=(256,256,3)))  # 32 filters\n",
        "#model.add(BatchNormalization())  # added to reduce overfitting\n",
        "model.add(MaxPooling2D(pool_size=(2,2),strides=2,padding='valid'))\n",
        "\n",
        "model.add(Conv2D(64,kernel_size=(3,3),padding='valid',activation='relu'))\n",
        "#model.add(BatchNormalization())  # added to reduce overfitting\n",
        "model.add(MaxPooling2D(pool_size=(2,2),strides=2,padding='valid'))\n",
        "\n",
        "model.add(Conv2D(128,kernel_size=(3,3),padding='valid',activation='relu'))\n",
        "#model.add(BatchNormalization())  # added to reduce overfitting\n",
        "model.add(MaxPooling2D(pool_size=(2,2),strides=2,padding='valid'))\n",
        "\n",
        "model.add(Flatten())\n",
        "\n",
        "model.add(Dense(128,activation='relu')) #feature reduction\n",
        "#model.add(Dropout(0.1))  # added to reduce overfitting\n",
        "model.add(Dense(64,activation='relu'))\n",
        "#model.add(Dropout(0.1))  # added to reduce overfitting\n",
        "model.add(Dense(1,activation='sigmoid'))  #output layer"
      ],
      "metadata": {
        "id": "5ajGjmlDpgvR"
      },
      "execution_count": 6,
      "outputs": []
    },
    {
      "cell_type": "code",
      "source": [
        "from keras.optimizers import Adam\n",
        "model.compile(optimizer=Adam(learning_rate=0.001),loss='binary_crossentropy',metrics=['accuracy']) #binary_crossentropy - binary classification"
      ],
      "metadata": {
        "id": "k9krXSuCpkG7"
      },
      "execution_count": 7,
      "outputs": []
    },
    {
      "cell_type": "code",
      "source": [
        "history = model.fit(train_data, epochs=20, validation_data=validation_data)"
      ],
      "metadata": {
        "colab": {
          "base_uri": "https://localhost:8080/"
        },
        "id": "lGCyFnlUpmDF",
        "outputId": "a208d2f5-0f41-410e-e1aa-c900ae2d581b"
      },
      "execution_count": 8,
      "outputs": [
        {
          "output_type": "stream",
          "name": "stdout",
          "text": [
            "Epoch 1/20\n",
            "40/40 [==============================] - 590s 15s/step - loss: 0.8807 - accuracy: 0.5031 - val_loss: 0.6908 - val_accuracy: 0.5000\n",
            "Epoch 2/20\n",
            "40/40 [==============================] - 244s 6s/step - loss: 0.6920 - accuracy: 0.5055 - val_loss: 0.6928 - val_accuracy: 0.5000\n",
            "Epoch 3/20\n",
            "40/40 [==============================] - 231s 6s/step - loss: 0.6895 - accuracy: 0.5234 - val_loss: 0.6588 - val_accuracy: 0.6406\n",
            "Epoch 4/20\n",
            "40/40 [==============================] - 232s 6s/step - loss: 0.6610 - accuracy: 0.6344 - val_loss: 0.6615 - val_accuracy: 0.6875\n",
            "Epoch 5/20\n",
            "40/40 [==============================] - 239s 6s/step - loss: 0.6188 - accuracy: 0.6867 - val_loss: 0.6077 - val_accuracy: 0.7188\n",
            "Epoch 6/20\n",
            "40/40 [==============================] - 231s 6s/step - loss: 0.5127 - accuracy: 0.7609 - val_loss: 0.6093 - val_accuracy: 0.6687\n",
            "Epoch 7/20\n",
            "40/40 [==============================] - 240s 6s/step - loss: 0.3900 - accuracy: 0.8266 - val_loss: 0.6781 - val_accuracy: 0.7125\n",
            "Epoch 8/20\n",
            "40/40 [==============================] - 237s 6s/step - loss: 0.3072 - accuracy: 0.8766 - val_loss: 0.8095 - val_accuracy: 0.7031\n",
            "Epoch 9/20\n",
            "40/40 [==============================] - 234s 6s/step - loss: 0.1717 - accuracy: 0.9273 - val_loss: 1.0659 - val_accuracy: 0.6719\n",
            "Epoch 10/20\n",
            "40/40 [==============================] - 238s 6s/step - loss: 0.1112 - accuracy: 0.9609 - val_loss: 1.1916 - val_accuracy: 0.6656\n",
            "Epoch 11/20\n",
            "40/40 [==============================] - 229s 6s/step - loss: 0.0824 - accuracy: 0.9703 - val_loss: 1.4780 - val_accuracy: 0.6625\n",
            "Epoch 12/20\n",
            "40/40 [==============================] - 247s 6s/step - loss: 0.0612 - accuracy: 0.9820 - val_loss: 1.7772 - val_accuracy: 0.6531\n",
            "Epoch 13/20\n",
            "40/40 [==============================] - 232s 6s/step - loss: 0.1146 - accuracy: 0.9594 - val_loss: 1.4368 - val_accuracy: 0.6656\n",
            "Epoch 14/20\n",
            "40/40 [==============================] - 238s 6s/step - loss: 0.0290 - accuracy: 0.9914 - val_loss: 1.8921 - val_accuracy: 0.7031\n",
            "Epoch 15/20\n",
            "40/40 [==============================] - 243s 6s/step - loss: 0.0076 - accuracy: 0.9992 - val_loss: 2.4179 - val_accuracy: 0.6906\n",
            "Epoch 16/20\n",
            "40/40 [==============================] - 233s 6s/step - loss: 0.0044 - accuracy: 1.0000 - val_loss: 2.3823 - val_accuracy: 0.6781\n",
            "Epoch 17/20\n",
            "40/40 [==============================] - 243s 6s/step - loss: 0.0022 - accuracy: 1.0000 - val_loss: 2.6535 - val_accuracy: 0.6812\n",
            "Epoch 18/20\n",
            "40/40 [==============================] - 233s 6s/step - loss: 0.0183 - accuracy: 0.9945 - val_loss: 2.1261 - val_accuracy: 0.7219\n",
            "Epoch 19/20\n",
            "40/40 [==============================] - 234s 6s/step - loss: 0.0214 - accuracy: 0.9914 - val_loss: 2.0633 - val_accuracy: 0.7125\n",
            "Epoch 20/20\n",
            "40/40 [==============================] - 240s 6s/step - loss: 0.0532 - accuracy: 0.9836 - val_loss: 1.7750 - val_accuracy: 0.6969\n"
          ]
        }
      ]
    },
    {
      "cell_type": "code",
      "source": [
        "import matplotlib.pyplot as plt\n",
        "\n",
        "plt.plot(history.history['accuracy'],color='red',label='train')\n",
        "plt.plot(history.history['val_accuracy'],color='blue',label='validation')\n",
        "plt.legend()\n",
        "plt.show()"
      ],
      "metadata": {
        "colab": {
          "base_uri": "https://localhost:8080/",
          "height": 430
        },
        "id": "rfqet0ec9fyt",
        "outputId": "547a8a91-07ba-4c91-bb96-e4a00cf2622c"
      },
      "execution_count": 9,
      "outputs": [
        {
          "output_type": "display_data",
          "data": {
            "text/plain": [
              "<Figure size 640x480 with 1 Axes>"
            ],
            "image/png": "[encoded data removed]"
          },
          "metadata": {}
        }
      ]
    },
    {
      "cell_type": "code",
      "source": [
        "plt.plot(history.history['loss'],color='red',label='train')\n",
        "plt.plot(history.history['val_loss'],color='blue',label='validation')\n",
        "plt.legend()\n",
        "plt.show()"
      ],
      "metadata": {
        "colab": {
          "base_uri": "https://localhost:8080/",
          "height": 430
        },
        "id": "J3JwH6kZ9rKu",
        "outputId": "e551f61c-b3aa-475d-e2ad-af4ada9b9a3d"
      },
      "execution_count": 10,
      "outputs": [
        {
          "output_type": "display_data",
          "data": {
            "text/plain": [
              "<Figure size 640x480 with 1 Axes>"
            ],
            "image/png": "[encoded data removed]"
          },
          "metadata": {}
        }
      ]
    },
    {
      "cell_type": "code",
      "source": [
        "test_datagen = ImageDataGenerator(rescale=1./255)\n",
        "test_data = test_datagen.flow_from_directory(\n",
        "    test_dir,\n",
        "    target_size=(256,256),\n",
        "    batch_size=32,\n",
        "    class_mode='binary'\n",
        ")"
      ],
      "metadata": {
        "colab": {
          "base_uri": "https://localhost:8080/"
        },
        "id": "l6Uupv1v9xBO",
        "outputId": "0623b09e-3918-4ad3-b48c-a470952b5c13"
      },
      "execution_count": 11,
      "outputs": [
        {
          "output_type": "stream",
          "name": "stdout",
          "text": [
            "Found 366 images belonging to 2 classes.\n"
          ]
        }
      ]
    },
    {
      "cell_type": "code",
      "source": [
        "#predict the test data\n",
        "predictions = model.predict(test_data)\n",
        "print(predictions)"
      ],
      "metadata": {
        "colab": {
          "base_uri": "https://localhost:8080/"
        },
        "id": "Lu5hQs96-T-l",
        "outputId": "0fe7dbba-9a4f-4f10-982b-831b22f9de50"
      },
      "execution_count": 12,
      "outputs": [
        {
          "output_type": "stream",
          "name": "stdout",
          "text": [
            "12/12 [==============================] - 177s 16s/step\n",
            "[[1.41202356e-04]\n",
            " [6.99293971e-01]\n",
            " [7.01797009e-02]\n",
            " [5.14736712e-01]\n",
            " [8.80763214e-03]\n",
            " [1.74153149e-01]\n",
            " [3.30183458e-09]\n",
            " [5.75360060e-01]\n",
            " [8.44197512e-01]\n",
            " [9.67474043e-01]\n",
            " [5.68835855e-01]\n",
            " [2.51886100e-02]\n",
            " [4.80525886e-09]\n",
            " [6.67221487e-01]\n",
            " [2.17184246e-01]\n",
            " [9.93094325e-01]\n",
            " [1.12411380e-03]\n",
            " [9.98095512e-01]\n",
            " [3.58840734e-01]\n",
            " [9.99999762e-01]\n",
            " [7.48564005e-01]\n",
            " [4.86113802e-02]\n",
            " [1.12935066e-08]\n",
            " [9.90935683e-01]\n",
            " [9.99853492e-01]\n",
            " [2.31227994e-01]\n",
            " [9.85238314e-01]\n",
            " [8.14382434e-01]\n",
            " [1.23906933e-01]\n",
            " [7.44473145e-05]\n",
            " [5.44750512e-01]\n",
            " [1.78127047e-02]\n",
            " [8.43373895e-01]\n",
            " [9.95193481e-01]\n",
            " [4.30819355e-02]\n",
            " [9.97761488e-01]\n",
            " [6.03292392e-05]\n",
            " [7.68574595e-01]\n",
            " [4.04027790e-01]\n",
            " [9.33513105e-01]\n",
            " [6.28807127e-01]\n",
            " [5.33094422e-08]\n",
            " [1.76453739e-02]\n",
            " [5.36966929e-03]\n",
            " [6.86496615e-01]\n",
            " [9.56566334e-01]\n",
            " [9.98983443e-01]\n",
            " [4.97475958e-05]\n",
            " [3.80313001e-03]\n",
            " [9.99997914e-01]\n",
            " [2.77394623e-01]\n",
            " [1.51311141e-03]\n",
            " [1.16150059e-05]\n",
            " [9.99820292e-01]\n",
            " [9.99965906e-01]\n",
            " [1.08017651e-02]\n",
            " [9.70705748e-01]\n",
            " [1.41180074e-02]\n",
            " [3.70979697e-01]\n",
            " [4.43763465e-01]\n",
            " [9.94209707e-01]\n",
            " [9.94442999e-01]\n",
            " [2.20056390e-05]\n",
            " [9.18303609e-01]\n",
            " [4.44527507e-01]\n",
            " [9.87954319e-01]\n",
            " [9.94490385e-01]\n",
            " [9.04919356e-02]\n",
            " [6.94736481e-01]\n",
            " [1.08825392e-04]\n",
            " [1.27170011e-07]\n",
            " [8.13418776e-17]\n",
            " [9.86869931e-01]\n",
            " [9.35025752e-01]\n",
            " [9.99985516e-01]\n",
            " [2.04310700e-01]\n",
            " [6.44954489e-05]\n",
            " [4.26588058e-01]\n",
            " [6.34613574e-01]\n",
            " [4.70550358e-01]\n",
            " [1.82277830e-07]\n",
            " [1.55003188e-09]\n",
            " [6.54086173e-01]\n",
            " [1.86549398e-04]\n",
            " [8.33341777e-01]\n",
            " [4.69371080e-02]\n",
            " [5.45845694e-07]\n",
            " [2.05050215e-01]\n",
            " [2.34940350e-01]\n",
            " [7.91868925e-01]\n",
            " [1.55107379e-01]\n",
            " [9.31776643e-01]\n",
            " [4.51271562e-03]\n",
            " [3.57549824e-02]\n",
            " [6.99049830e-02]\n",
            " [9.77978051e-01]\n",
            " [1.00000000e+00]\n",
            " [9.38179433e-01]\n",
            " [9.99767423e-01]\n",
            " [9.99538541e-01]\n",
            " [5.90248406e-02]\n",
            " [9.90656137e-01]\n",
            " [1.12867656e-06]\n",
            " [9.99473214e-01]\n",
            " [8.27613711e-01]\n",
            " [6.71244189e-02]\n",
            " [1.31949857e-01]\n",
            " [9.71927464e-01]\n",
            " [6.80717587e-01]\n",
            " [6.83972239e-01]\n",
            " [1.54485907e-02]\n",
            " [9.79415298e-01]\n",
            " [9.60046530e-01]\n",
            " [6.00522518e-01]\n",
            " [9.99588490e-01]\n",
            " [9.26045992e-04]\n",
            " [5.72318695e-02]\n",
            " [4.45770323e-01]\n",
            " [1.97620193e-06]\n",
            " [9.99432862e-01]\n",
            " [3.63781661e-01]\n",
            " [2.17509434e-01]\n",
            " [5.86511530e-02]\n",
            " [1.69821873e-01]\n",
            " [5.45608580e-01]\n",
            " [2.11846173e-01]\n",
            " [2.71587539e-03]\n",
            " [1.59014314e-01]\n",
            " [2.95230535e-07]\n",
            " [9.21011686e-01]\n",
            " [6.29628956e-01]\n",
            " [2.50291198e-01]\n",
            " [1.70573760e-02]\n",
            " [6.08637218e-13]\n",
            " [3.23406547e-01]\n",
            " [7.52270460e-01]\n",
            " [9.74127114e-01]\n",
            " [1.69431359e-01]\n",
            " [9.30703223e-01]\n",
            " [9.99947786e-01]\n",
            " [8.01710784e-01]\n",
            " [3.15513223e-01]\n",
            " [1.34831911e-03]\n",
            " [7.21938431e-01]\n",
            " [9.99995589e-01]\n",
            " [3.93992569e-03]\n",
            " [9.82156694e-01]\n",
            " [3.53739655e-04]\n",
            " [1.54340873e-04]\n",
            " [7.68597645e-04]\n",
            " [9.99737799e-01]\n",
            " [2.42830629e-06]\n",
            " [9.99955356e-01]\n",
            " [9.99923527e-01]\n",
            " [9.99621034e-01]\n",
            " [9.99919236e-01]\n",
            " [9.98980105e-01]\n",
            " [9.94589865e-01]\n",
            " [3.51442844e-01]\n",
            " [1.76753638e-05]\n",
            " [3.90183832e-03]\n",
            " [2.77025141e-02]\n",
            " [3.42032537e-02]\n",
            " [9.93591607e-01]\n",
            " [2.82970101e-01]\n",
            " [3.88572342e-04]\n",
            " [5.74701190e-01]\n",
            " [1.00000000e+00]\n",
            " [5.89820556e-05]\n",
            " [9.97635186e-01]\n",
            " [9.48993444e-01]\n",
            " [1.80018922e-09]\n",
            " [9.98814166e-01]\n",
            " [9.98067200e-01]\n",
            " [1.14834914e-03]\n",
            " [9.97737467e-01]\n",
            " [9.70609188e-01]\n",
            " [1.69680279e-03]\n",
            " [1.70619925e-04]\n",
            " [4.73445117e-01]\n",
            " [9.99010205e-01]\n",
            " [9.99996841e-01]\n",
            " [9.99870777e-01]\n",
            " [3.81034583e-01]\n",
            " [2.29549389e-02]\n",
            " [3.69138122e-02]\n",
            " [1.33995682e-01]\n",
            " [8.98289323e-01]\n",
            " [9.83898163e-01]\n",
            " [3.05424511e-01]\n",
            " [1.09544657e-02]\n",
            " [8.57461452e-01]\n",
            " [5.48625985e-06]\n",
            " [4.16590244e-01]\n",
            " [9.99999881e-01]\n",
            " [9.90101576e-01]\n",
            " [5.93701720e-01]\n",
            " [6.83278814e-02]\n",
            " [9.99164879e-01]\n",
            " [9.99999940e-01]\n",
            " [9.56916809e-01]\n",
            " [9.89401519e-01]\n",
            " [6.48858175e-02]\n",
            " [1.36783376e-01]\n",
            " [9.99996543e-01]\n",
            " [7.37529945e-06]\n",
            " [5.33399816e-06]\n",
            " [2.09760947e-05]\n",
            " [5.75050712e-01]\n",
            " [1.02358066e-01]\n",
            " [9.99263287e-01]\n",
            " [9.99995708e-01]\n",
            " [1.01532997e-10]\n",
            " [6.71729207e-01]\n",
            " [1.37483785e-02]\n",
            " [1.00000000e+00]\n",
            " [9.79376078e-01]\n",
            " [9.99999940e-01]\n",
            " [2.22128665e-06]\n",
            " [1.00000000e+00]\n",
            " [3.21302921e-01]\n",
            " [1.85944363e-01]\n",
            " [3.34403999e-02]\n",
            " [2.75065569e-04]\n",
            " [9.99173462e-01]\n",
            " [9.98464942e-01]\n",
            " [1.26465827e-01]\n",
            " [7.25134868e-08]\n",
            " [9.97981131e-01]\n",
            " [9.99939799e-01]\n",
            " [7.65952468e-01]\n",
            " [5.60529998e-07]\n",
            " [1.36704184e-04]\n",
            " [9.40378547e-01]\n",
            " [9.99963641e-01]\n",
            " [1.55329739e-03]\n",
            " [5.59837759e-01]\n",
            " [1.22864651e-06]\n",
            " [2.35472411e-01]\n",
            " [1.09677556e-08]\n",
            " [2.73885071e-01]\n",
            " [9.47136223e-01]\n",
            " [5.09053618e-02]\n",
            " [5.53722028e-04]\n",
            " [7.13993176e-09]\n",
            " [1.25129744e-02]\n",
            " [9.50122416e-01]\n",
            " [8.62546645e-10]\n",
            " [5.39860805e-04]\n",
            " [5.70596337e-01]\n",
            " [9.73842502e-01]\n",
            " [1.08738795e-01]\n",
            " [8.52298021e-01]\n",
            " [3.25010391e-03]\n",
            " [1.09168679e-01]\n",
            " [9.99906480e-01]\n",
            " [8.08903277e-02]\n",
            " [8.58020902e-01]\n",
            " [2.17774864e-19]\n",
            " [9.99916911e-01]\n",
            " [3.92485149e-02]\n",
            " [1.00000000e+00]\n",
            " [2.86206079e-04]\n",
            " [9.26145792e-01]\n",
            " [5.28544426e-01]\n",
            " [2.89736519e-04]\n",
            " [9.99825776e-01]\n",
            " [9.83755648e-01]\n",
            " [2.91964233e-01]\n",
            " [9.78141325e-04]\n",
            " [9.99492168e-01]\n",
            " [1.43752947e-01]\n",
            " [4.37056005e-05]\n",
            " [9.27122951e-01]\n",
            " [2.39808589e-01]\n",
            " [6.03820860e-01]\n",
            " [6.80900048e-05]\n",
            " [4.04198505e-02]\n",
            " [3.75298191e-06]\n",
            " [9.99218225e-01]\n",
            " [1.23683463e-14]\n",
            " [9.96489882e-01]\n",
            " [6.20705541e-05]\n",
            " [9.52503264e-01]\n",
            " [4.75754112e-01]\n",
            " [3.88537046e-05]\n",
            " [6.19523322e-11]\n",
            " [3.61904895e-05]\n",
            " [2.33822619e-04]\n",
            " [9.99999940e-01]\n",
            " [7.66361132e-02]\n",
            " [9.98544872e-01]\n",
            " [4.05650761e-04]\n",
            " [8.99416208e-02]\n",
            " [3.15487897e-03]\n",
            " [9.99477208e-01]\n",
            " [9.50024068e-01]\n",
            " [5.93105796e-08]\n",
            " [3.28090712e-02]\n",
            " [1.24415397e-04]\n",
            " [9.73512888e-01]\n",
            " [9.99999821e-01]\n",
            " [2.57207266e-05]\n",
            " [8.43788148e-05]\n",
            " [1.78407339e-04]\n",
            " [9.99551296e-01]\n",
            " [1.00000000e+00]\n",
            " [4.96177197e-11]\n",
            " [9.99915540e-01]\n",
            " [9.60863829e-01]\n",
            " [9.87725258e-01]\n",
            " [9.80676770e-01]\n",
            " [8.41173232e-01]\n",
            " [9.45688844e-01]\n",
            " [9.90150213e-01]\n",
            " [9.59100306e-01]\n",
            " [9.42213774e-01]\n",
            " [6.71440193e-06]\n",
            " [1.00000000e+00]\n",
            " [3.36105734e-01]\n",
            " [6.94314241e-01]\n",
            " [9.96475577e-01]\n",
            " [1.00000000e+00]\n",
            " [2.12328247e-04]\n",
            " [9.99990344e-01]\n",
            " [9.99998331e-01]\n",
            " [9.35063899e-01]\n",
            " [3.11488429e-06]\n",
            " [1.58522159e-01]\n",
            " [9.99984324e-01]\n",
            " [6.23186491e-02]\n",
            " [9.11423147e-01]\n",
            " [5.72880328e-01]\n",
            " [9.98182058e-01]\n",
            " [9.99982357e-01]\n",
            " [1.20733194e-01]\n",
            " [9.69871700e-01]\n",
            " [5.89992762e-01]\n",
            " [1.28108324e-04]\n",
            " [9.90097062e-04]\n",
            " [6.97421329e-03]\n",
            " [1.99092878e-03]\n",
            " [6.38640821e-01]\n",
            " [9.40422058e-01]\n",
            " [1.41298436e-02]\n",
            " [9.96519506e-01]\n",
            " [4.82185625e-10]\n",
            " [1.72892079e-01]\n",
            " [9.95284140e-01]\n",
            " [9.99981463e-01]\n",
            " [2.14667246e-01]\n",
            " [6.85201466e-01]\n",
            " [6.61212504e-01]\n",
            " [8.90739620e-01]\n",
            " [9.96634543e-01]\n",
            " [2.71885661e-08]\n",
            " [3.02236737e-03]\n",
            " [9.99989212e-01]\n",
            " [2.47639671e-01]\n",
            " [9.94436920e-01]\n",
            " [8.39372277e-02]\n",
            " [6.50217680e-06]\n",
            " [9.38158870e-01]\n",
            " [9.57694292e-01]\n",
            " [7.65748229e-03]\n",
            " [9.99851465e-01]]\n"
          ]
        }
      ]
    },
    {
      "cell_type": "code",
      "source": [
        "len(predictions)"
      ],
      "metadata": {
        "colab": {
          "base_uri": "https://localhost:8080/"
        },
        "id": "J8eUse1__Pn0",
        "outputId": "3c2b327d-8e11-4479-f041-5157141185ed"
      },
      "execution_count": 13,
      "outputs": [
        {
          "output_type": "execute_result",
          "data": {
            "text/plain": [
              "366"
            ]
          },
          "metadata": {},
          "execution_count": 13
        }
      ]
    },
    {
      "cell_type": "code",
      "source": [
        "from sklearn.metrics import confusion_matrix, classification_report\n",
        "\n",
        "# Assuming you have ground truth labels (true_labels) and predicted labels (predictions)\n",
        "true_labels = test_data.classes\n",
        "predicted_labels = (predictions > 0.5).astype(int)  # Adjust the threshold as needed\n",
        "\n",
        "# Calculate confusion matrix\n",
        "cm = confusion_matrix(true_labels, predicted_labels)\n",
        "\n",
        "# Print confusion matrix\n",
        "print(\"Confusion Matrix:\")\n",
        "print(cm)\n",
        "\n",
        "# Print classification report\n",
        "print(\"Classification Report:\")\n",
        "print(classification_report(true_labels, predicted_labels))"
      ],
      "metadata": {
        "colab": {
          "base_uri": "https://localhost:8080/"
        },
        "id": "VzGDOiGv_VhC",
        "outputId": "5029b600-43b4-4135-b072-dd55edd576af"
      },
      "execution_count": 14,
      "outputs": [
        {
          "output_type": "stream",
          "name": "stdout",
          "text": [
            "Confusion Matrix:\n",
            "[[94 89]\n",
            " [92 91]]\n",
            "Classification Report:\n",
            "              precision    recall  f1-score   support\n",
            "\n",
            "           0       0.51      0.51      0.51       183\n",
            "           1       0.51      0.50      0.50       183\n",
            "\n",
            "    accuracy                           0.51       366\n",
            "   macro avg       0.51      0.51      0.51       366\n",
            "weighted avg       0.51      0.51      0.51       366\n",
            "\n"
          ]
        }
      ]
    },
    {
      "cell_type": "code",
      "source": [
        "#My dataset is available in googledrive; so I am accessing my drive from colab\n",
        "from google.colab import drive\n",
        "drive.mount('/content/drive', force_remount=True)\n",
        "#Once this is executed, you will see your drive appearing on the left hand side"
      ],
      "metadata": {
        "colab": {
          "base_uri": "https://localhost:8080/"
        },
        "id": "U_JebtWFC_Pa",
        "outputId": "69a402c1-970f-4a49-bb1e-99de440b1f09"
      },
      "execution_count": 15,
      "outputs": [
        {
          "output_type": "stream",
          "name": "stdout",
          "text": [
            "Mounted at /content/drive\n"
          ]
        }
      ]
    },
    {
      "cell_type": "code",
      "source": [
        "# Define paths to the dataset\n",
        "train_dir = '/content/drive/MyDrive/train'  # Update with your actual path\n",
        "test_dir = '/content/drive/MyDrive/test'    # Update with your actual path"
      ],
      "metadata": {
        "id": "HRNQEUAbDKLU"
      },
      "execution_count": 16,
      "outputs": []
    },
    {
      "cell_type": "code",
      "source": [
        "import os\n",
        "print(len(os.listdir('/content/drive/MyDrive/train/not_pizza')))\n",
        "print(len(os.listdir('/content/drive/MyDrive/train/pizza')))\n",
        "print(len(os.listdir('/content/drive/MyDrive/test/not_pizza')))\n",
        "print(len(os.listdir('/content/drive/MyDrive/test/pizza')))"
      ],
      "metadata": {
        "colab": {
          "base_uri": "https://localhost:8080/"
        },
        "id": "jRHHnQw9DUt_",
        "outputId": "b8fd2eac-bc2f-4ea8-e3b1-f1347e98f3dd"
      },
      "execution_count": 17,
      "outputs": [
        {
          "output_type": "stream",
          "name": "stdout",
          "text": [
            "800\n",
            "800\n",
            "183\n",
            "183\n"
          ]
        }
      ]
    },
    {
      "cell_type": "code",
      "source": [
        "import tensorflow as tf\n",
        "from tensorflow.keras.preprocessing.image import ImageDataGenerator\n",
        "\n",
        "# Create ImageDataGenerator for training set\n",
        "train_datagen = ImageDataGenerator(\n",
        "    rescale=1./255,\n",
        "    validation_split=0.2  # Split 20% of the images for validation\n",
        ")\n",
        "\n",
        "# Load and prepare training data\n",
        "train_data = train_datagen.flow_from_directory(\n",
        "    train_dir,\n",
        "    target_size=(256,256),\n",
        "    batch_size=32,\n",
        "    class_mode='binary',  # 'binary' for binary classification (Pizza vs. not pizza)\n",
        "    subset='training'  # Specify 'training' for the training set\n",
        ")\n",
        "\n",
        "# Create ImageDataGenerator for validation set\n",
        "validation_datagen = ImageDataGenerator(\n",
        "    rescale=1./255,\n",
        "    validation_split=0.2  # Note: Using the same validation split as in the training set\n",
        ")\n",
        "\n",
        "# Load and prepare validation data\n",
        "validation_data = validation_datagen.flow_from_directory(\n",
        "    train_dir,\n",
        "    target_size=(256,256),\n",
        "    batch_size=32,\n",
        "    class_mode='binary',\n",
        "    subset='validation'  # Specify 'validation' for the validation set\n",
        ")"
      ],
      "metadata": {
        "colab": {
          "base_uri": "https://localhost:8080/"
        },
        "id": "d7DrP6HKDaZ8",
        "outputId": "d2dec14f-781c-4d8d-914e-81d72e9783c5"
      },
      "execution_count": 19,
      "outputs": [
        {
          "output_type": "stream",
          "name": "stdout",
          "text": [
            "Found 1280 images belonging to 2 classes.\n",
            "Found 320 images belonging to 2 classes.\n"
          ]
        }
      ]
    },
    {
      "cell_type": "code",
      "source": [
        "from tensorflow import keras\n",
        "from keras import Sequential\n",
        "from keras.layers import Dense,Conv2D,MaxPooling2D,Flatten\n",
        "\n",
        "resnet_model = Sequential()    #ResNet50 is a pre-trained model\n",
        "pretrained_model = tf.keras.applications.ResNet50(include_top = False, #because i have my own image of a diff dimension\n",
        "                                                input_shape = (256,256,3),\n",
        "                                                pooling = 'max', classes = 2,\n",
        "                                                weights = 'imagenet')\n",
        "for layer in pretrained_model.layers:\n",
        "    layer.trainable = False  #all layers in the Resnet50 is not trainable; keep those weights; I am going to add my own i/p and other layers\n",
        "\n",
        "resnet_model.add(pretrained_model)\n",
        "resnet_model.add(Flatten())\n",
        "resnet_model.add(Dense(512, activation = 'relu'))\n",
        "resnet_model.add(Dense(1, activation = 'sigmoid'))"
      ],
      "metadata": {
        "colab": {
          "base_uri": "https://localhost:8080/"
        },
        "id": "t0cK6juYDrv-",
        "outputId": "8e4412d6-f8f0-4e0e-80c3-e90d96d95c95"
      },
      "execution_count": 20,
      "outputs": [
        {
          "output_type": "stream",
          "name": "stdout",
          "text": [
            "Downloading data from https://storage.googleapis.com/tensorflow/keras-applications/resnet/resnet50_weights_tf_dim_ordering_tf_kernels_notop.h5\n",
            "94765736/94765736 [==============================] - 1s 0us/step\n"
          ]
        }
      ]
    },
    {
      "cell_type": "code",
      "source": [
        "from tensorflow import keras\n",
        "from keras import Sequential\n",
        "from keras.layers import Dense,Conv2D,MaxPooling2D,Flatten\n",
        "\n",
        "resnet_model = Sequential()    #ResNet50 is a pre-trained model\n",
        "pretrained_model = tf.keras.applications.ResNet50(include_top = False, #because i have my own image of a diff dimension\n",
        "                                                input_shape = (256,256,3),\n",
        "                                                pooling = 'max', classes = 2,\n",
        "                                                weights = 'imagenet')\n",
        "for layer in pretrained_model.layers:\n",
        "    layer.trainable = False  #all layers in the Resnet50 is not trainable; keep those weights; I am going to add my own i/p and other layers\n",
        "\n",
        "resnet_model.add(pretrained_model)\n",
        "resnet_model.add(Flatten())\n",
        "resnet_model.add(Dense(512, activation = 'relu'))\n",
        "resnet_model.add(Dense(1, activation = 'sigmoid'))"
      ],
      "metadata": {
        "id": "HlJ6VmBhDzzQ"
      },
      "execution_count": 21,
      "outputs": []
    },
    {
      "cell_type": "code",
      "source": [
        "from keras.optimizers import Adam\n",
        "resnet_model.compile(optimizer=Adam(learning_rate=0.001),loss='binary_crossentropy',metrics=['accuracy']) #binary_crossentropy - binary classification"
      ],
      "metadata": {
        "id": "9faPRt1YD987"
      },
      "execution_count": 22,
      "outputs": []
    },
    {
      "cell_type": "code",
      "source": [
        "history = resnet_model.fit(train_data, epochs=3, validation_data=validation_data)"
      ],
      "metadata": {
        "colab": {
          "base_uri": "https://localhost:8080/"
        },
        "id": "0OFBf6zrEBhn",
        "outputId": "42d37b78-dc6e-4ded-e119-eef5361345dd"
      },
      "execution_count": 23,
      "outputs": [
        {
          "output_type": "stream",
          "name": "stdout",
          "text": [
            "Epoch 1/3\n",
            "40/40 [==============================] - 497s 12s/step - loss: 1.6186 - accuracy: 0.5422 - val_loss: 0.6849 - val_accuracy: 0.6000\n",
            "Epoch 2/3\n",
            "40/40 [==============================] - 487s 12s/step - loss: 0.6783 - accuracy: 0.6164 - val_loss: 0.6620 - val_accuracy: 0.6125\n",
            "Epoch 3/3\n",
            "40/40 [==============================] - 542s 14s/step - loss: 0.6819 - accuracy: 0.6133 - val_loss: 0.6188 - val_accuracy: 0.6344\n"
          ]
        }
      ]
    },
    {
      "cell_type": "code",
      "source": [
        "import matplotlib.pyplot as plt\n",
        "\n",
        "plt.plot(history.history['accuracy'],color='red',label='train')\n",
        "plt.plot(history.history['val_accuracy'],color='blue',label='validation')\n",
        "plt.legend()\n",
        "plt.show()"
      ],
      "metadata": {
        "colab": {
          "base_uri": "https://localhost:8080/",
          "height": 430
        },
        "id": "HrL2X67iJ-iz",
        "outputId": "7b2570c5-700b-4aaf-8efe-388baabe8b1e"
      },
      "execution_count": 24,
      "outputs": [
        {
          "output_type": "display_data",
          "data": {
            "text/plain": [
              "<Figure size 640x480 with 1 Axes>"
            ],
            "image/png": "[encoded data removed]"
          },
          "metadata": {}
        }
      ]
    },
    {
      "cell_type": "code",
      "source": [
        "plt.plot(history.history['loss'],color='red',label='train')\n",
        "plt.plot(history.history['val_loss'],color='blue',label='validation')\n",
        "plt.legend()\n",
        "plt.show()"
      ],
      "metadata": {
        "colab": {
          "base_uri": "https://localhost:8080/",
          "height": 430
        },
        "id": "r_j6v5PyKET7",
        "outputId": "542e244d-4053-4920-ed2a-cfbb091a3000"
      },
      "execution_count": 25,
      "outputs": [
        {
          "output_type": "display_data",
          "data": {
            "text/plain": [
              "<Figure size 640x480 with 1 Axes>"
            ],
            "image/png": "[encoded data removed]"
          },
          "metadata": {}
        }
      ]
    },
    {
      "cell_type": "code",
      "source": [
        "test_datagen = ImageDataGenerator(rescale=1./255)\n",
        "test_data = test_datagen.flow_from_directory(\n",
        "    test_dir,\n",
        "    target_size=(256,256),\n",
        "    batch_size=32,\n",
        "    class_mode='binary'\n",
        ")"
      ],
      "metadata": {
        "colab": {
          "base_uri": "https://localhost:8080/"
        },
        "id": "v7A0RxQFKIU2",
        "outputId": "4fc0855e-f5ab-4c3d-d166-07a1a0e2e5bb"
      },
      "execution_count": 26,
      "outputs": [
        {
          "output_type": "stream",
          "name": "stdout",
          "text": [
            "Found 366 images belonging to 2 classes.\n"
          ]
        }
      ]
    },
    {
      "cell_type": "code",
      "source": [
        "#predict the test data\n",
        "predictions = resnet_model.predict(test_data)\n",
        "print(predictions)"
      ],
      "metadata": {
        "colab": {
          "base_uri": "https://localhost:8080/"
        },
        "id": "GLGMG7nQKL23",
        "outputId": "8cab5547-871e-41d0-be4a-dfd905a91092"
      },
      "execution_count": 27,
      "outputs": [
        {
          "output_type": "stream",
          "name": "stdout",
          "text": [
            "12/12 [==============================] - 120s 10s/step\n",
            "[[0.2789396 ]\n",
            " [0.51342016]\n",
            " [0.79739004]\n",
            " [0.49059352]\n",
            " [0.04781865]\n",
            " [0.41506192]\n",
            " [0.6681605 ]\n",
            " [0.4274921 ]\n",
            " [0.48042753]\n",
            " [0.6360015 ]\n",
            " [0.38756615]\n",
            " [0.35669878]\n",
            " [0.76375675]\n",
            " [0.7495034 ]\n",
            " [0.35413593]\n",
            " [0.55962336]\n",
            " [0.72094387]\n",
            " [0.7073921 ]\n",
            " [0.29565775]\n",
            " [0.5603917 ]\n",
            " [0.75292486]\n",
            " [0.8268153 ]\n",
            " [0.44260573]\n",
            " [0.5239386 ]\n",
            " [0.32046133]\n",
            " [0.300068  ]\n",
            " [0.63450456]\n",
            " [0.5459632 ]\n",
            " [0.7665667 ]\n",
            " [0.7175086 ]\n",
            " [0.9421169 ]\n",
            " [0.8339994 ]\n",
            " [0.12613948]\n",
            " [0.7970455 ]\n",
            " [0.126926  ]\n",
            " [0.84307504]\n",
            " [0.9355256 ]\n",
            " [0.5875697 ]\n",
            " [0.2777195 ]\n",
            " [0.8227401 ]\n",
            " [0.527722  ]\n",
            " [0.67230034]\n",
            " [0.44108123]\n",
            " [0.45806667]\n",
            " [0.50352675]\n",
            " [0.3281493 ]\n",
            " [0.65725875]\n",
            " [0.76586944]\n",
            " [0.68900627]\n",
            " [0.7413303 ]\n",
            " [0.88194495]\n",
            " [0.5285313 ]\n",
            " [0.5759649 ]\n",
            " [0.4269699 ]\n",
            " [0.7675512 ]\n",
            " [0.2592115 ]\n",
            " [0.30989522]\n",
            " [0.69877213]\n",
            " [0.12473255]\n",
            " [0.53720844]\n",
            " [0.5906896 ]\n",
            " [0.5397323 ]\n",
            " [0.9453795 ]\n",
            " [0.6258617 ]\n",
            " [0.67892236]\n",
            " [0.9078315 ]\n",
            " [0.2957171 ]\n",
            " [0.5317201 ]\n",
            " [0.42222255]\n",
            " [0.8763009 ]\n",
            " [0.6339828 ]\n",
            " [0.6536408 ]\n",
            " [0.38452184]\n",
            " [0.467686  ]\n",
            " [0.9048101 ]\n",
            " [0.35330534]\n",
            " [0.5900014 ]\n",
            " [0.6028641 ]\n",
            " [0.6802125 ]\n",
            " [0.3757457 ]\n",
            " [0.34979743]\n",
            " [0.4355096 ]\n",
            " [0.3664788 ]\n",
            " [0.6706166 ]\n",
            " [0.94542396]\n",
            " [0.6993091 ]\n",
            " [0.4581242 ]\n",
            " [0.92648417]\n",
            " [0.7881296 ]\n",
            " [0.5783247 ]\n",
            " [0.7335047 ]\n",
            " [0.14118107]\n",
            " [0.5796623 ]\n",
            " [0.35890746]\n",
            " [0.48518577]\n",
            " [0.6267802 ]\n",
            " [0.39035726]\n",
            " [0.6231181 ]\n",
            " [0.7594534 ]\n",
            " [0.62637633]\n",
            " [0.72621304]\n",
            " [0.6018874 ]\n",
            " [0.44931698]\n",
            " [0.5003105 ]\n",
            " [0.3567716 ]\n",
            " [0.32251564]\n",
            " [0.4434294 ]\n",
            " [0.59767574]\n",
            " [0.33101514]\n",
            " [0.19963998]\n",
            " [0.4401088 ]\n",
            " [0.53116244]\n",
            " [0.76647794]\n",
            " [0.8340505 ]\n",
            " [0.11152822]\n",
            " [0.10580934]\n",
            " [0.67209333]\n",
            " [0.41216847]\n",
            " [0.86329544]\n",
            " [0.86073554]\n",
            " [0.7813471 ]\n",
            " [0.93733364]\n",
            " [0.52755713]\n",
            " [0.5640678 ]\n",
            " [0.4056435 ]\n",
            " [0.257153  ]\n",
            " [0.6830815 ]\n",
            " [0.5523345 ]\n",
            " [0.5508004 ]\n",
            " [0.95103633]\n",
            " [0.48240072]\n",
            " [0.42156312]\n",
            " [0.660883  ]\n",
            " [0.8197598 ]\n",
            " [0.88730335]\n",
            " [0.3396554 ]\n",
            " [0.5538811 ]\n",
            " [0.7408769 ]\n",
            " [0.6850842 ]\n",
            " [0.51035905]\n",
            " [0.74606854]\n",
            " [0.62171686]\n",
            " [0.31785446]\n",
            " [0.75031644]\n",
            " [0.2848826 ]\n",
            " [0.7413603 ]\n",
            " [0.40574193]\n",
            " [0.7831404 ]\n",
            " [0.41379264]\n",
            " [0.8580031 ]\n",
            " [0.97583544]\n",
            " [0.8425158 ]\n",
            " [0.6829667 ]\n",
            " [0.5614909 ]\n",
            " [0.8369668 ]\n",
            " [0.26839185]\n",
            " [0.55963457]\n",
            " [0.37422633]\n",
            " [0.6638508 ]\n",
            " [0.34585655]\n",
            " [0.69699836]\n",
            " [0.7765247 ]\n",
            " [0.7033    ]\n",
            " [0.6022136 ]\n",
            " [0.7881188 ]\n",
            " [0.09819213]\n",
            " [0.40045136]\n",
            " [0.69227487]\n",
            " [0.26149747]\n",
            " [0.67576766]\n",
            " [0.49315792]\n",
            " [0.4676218 ]\n",
            " [0.79640096]\n",
            " [0.67979497]\n",
            " [0.7479038 ]\n",
            " [0.90457416]\n",
            " [0.33440503]\n",
            " [0.8409187 ]\n",
            " [0.45437357]\n",
            " [0.73229396]\n",
            " [0.73067975]\n",
            " [0.3132097 ]\n",
            " [0.80826366]\n",
            " [0.7926277 ]\n",
            " [0.31193557]\n",
            " [0.8045467 ]\n",
            " [0.6475555 ]\n",
            " [0.5575691 ]\n",
            " [0.9103415 ]\n",
            " [0.8569477 ]\n",
            " [0.94729453]\n",
            " [0.64643687]\n",
            " [0.23058753]\n",
            " [0.5184206 ]\n",
            " [0.46903446]\n",
            " [0.7480178 ]\n",
            " [0.7847796 ]\n",
            " [0.5073216 ]\n",
            " [0.8818931 ]\n",
            " [0.48383892]\n",
            " [0.42030412]\n",
            " [0.40134358]\n",
            " [0.62649715]\n",
            " [0.36415434]\n",
            " [0.6504262 ]\n",
            " [0.60545313]\n",
            " [0.41279426]\n",
            " [0.5076133 ]\n",
            " [0.86207503]\n",
            " [0.5615099 ]\n",
            " [0.42089373]\n",
            " [0.8759085 ]\n",
            " [0.76580215]\n",
            " [0.38875574]\n",
            " [0.5115986 ]\n",
            " [0.39461386]\n",
            " [0.07206688]\n",
            " [0.92352444]\n",
            " [0.62925446]\n",
            " [0.24586198]\n",
            " [0.7415173 ]\n",
            " [0.72285604]\n",
            " [0.5718749 ]\n",
            " [0.5601097 ]\n",
            " [0.8081777 ]\n",
            " [0.278414  ]\n",
            " [0.3977401 ]\n",
            " [0.50768137]\n",
            " [0.790244  ]\n",
            " [0.9092808 ]\n",
            " [0.23129238]\n",
            " [0.3160862 ]\n",
            " [0.46754423]\n",
            " [0.24872406]\n",
            " [0.571014  ]\n",
            " [0.43330726]\n",
            " [0.207399  ]\n",
            " [0.3272911 ]\n",
            " [0.51755553]\n",
            " [0.21662997]\n",
            " [0.7653817 ]\n",
            " [0.70548385]\n",
            " [0.4349467 ]\n",
            " [0.34544924]\n",
            " [0.5507271 ]\n",
            " [0.5798733 ]\n",
            " [0.8696855 ]\n",
            " [0.37006986]\n",
            " [0.59897196]\n",
            " [0.8732863 ]\n",
            " [0.55986476]\n",
            " [0.84766793]\n",
            " [0.49740967]\n",
            " [0.41419816]\n",
            " [0.11058146]\n",
            " [0.55669016]\n",
            " [0.30140242]\n",
            " [0.57821745]\n",
            " [0.704419  ]\n",
            " [0.44918954]\n",
            " [0.62063676]\n",
            " [0.79094535]\n",
            " [0.6673676 ]\n",
            " [0.42230237]\n",
            " [0.5375901 ]\n",
            " [0.35217673]\n",
            " [0.47031677]\n",
            " [0.5384717 ]\n",
            " [0.60940325]\n",
            " [0.5098429 ]\n",
            " [0.6582876 ]\n",
            " [0.5506365 ]\n",
            " [0.44836983]\n",
            " [0.9185716 ]\n",
            " [0.9355062 ]\n",
            " [0.74045   ]\n",
            " [0.79902846]\n",
            " [0.7988691 ]\n",
            " [0.8864142 ]\n",
            " [0.8461656 ]\n",
            " [0.9554431 ]\n",
            " [0.68801296]\n",
            " [0.52280194]\n",
            " [0.7157416 ]\n",
            " [0.7152091 ]\n",
            " [0.4983803 ]\n",
            " [0.71635425]\n",
            " [0.31481066]\n",
            " [0.6480925 ]\n",
            " [0.50499624]\n",
            " [0.52390534]\n",
            " [0.6649313 ]\n",
            " [0.5691012 ]\n",
            " [0.60763556]\n",
            " [0.87871665]\n",
            " [0.85568285]\n",
            " [0.18197818]\n",
            " [0.7337195 ]\n",
            " [0.3595556 ]\n",
            " [0.65523016]\n",
            " [0.83927506]\n",
            " [0.69219327]\n",
            " [0.46475396]\n",
            " [0.9015024 ]\n",
            " [0.8571357 ]\n",
            " [0.65418893]\n",
            " [0.29124677]\n",
            " [0.92141604]\n",
            " [0.06294274]\n",
            " [0.5612972 ]\n",
            " [0.23497568]\n",
            " [0.5675127 ]\n",
            " [0.8989572 ]\n",
            " [0.29687893]\n",
            " [0.466657  ]\n",
            " [0.5804809 ]\n",
            " [0.5383439 ]\n",
            " [0.72350115]\n",
            " [0.6839491 ]\n",
            " [0.50873274]\n",
            " [0.92777276]\n",
            " [0.82504326]\n",
            " [0.8083212 ]\n",
            " [0.49673492]\n",
            " [0.4715268 ]\n",
            " [0.54191744]\n",
            " [0.956982  ]\n",
            " [0.6327206 ]\n",
            " [0.3055681 ]\n",
            " [0.88001055]\n",
            " [0.4276234 ]\n",
            " [0.9375895 ]\n",
            " [0.40282792]\n",
            " [0.56656885]\n",
            " [0.3127184 ]\n",
            " [0.57083166]\n",
            " [0.9030587 ]\n",
            " [0.9310434 ]\n",
            " [0.56531686]\n",
            " [0.5802371 ]\n",
            " [0.50221133]\n",
            " [0.5491483 ]\n",
            " [0.3624887 ]\n",
            " [0.7932455 ]\n",
            " [0.96997267]\n",
            " [0.7150244 ]\n",
            " [0.494452  ]\n",
            " [0.6775294 ]\n",
            " [0.5023616 ]\n",
            " [0.798776  ]\n",
            " [0.54598206]\n",
            " [0.8582785 ]\n",
            " [0.37386256]\n",
            " [0.56395465]\n",
            " [0.57980394]\n",
            " [0.681061  ]\n",
            " [0.3993627 ]\n",
            " [0.83336884]\n",
            " [0.8562945 ]\n",
            " [0.46634316]\n",
            " [0.34561265]\n",
            " [0.7574902 ]\n",
            " [0.29708079]\n",
            " [0.5791644 ]\n",
            " [0.78293705]\n",
            " [0.75093526]]\n"
          ]
        }
      ]
    },
    {
      "cell_type": "code",
      "source": [
        "len(predictions)"
      ],
      "metadata": {
        "colab": {
          "base_uri": "https://localhost:8080/"
        },
        "id": "D5De4HxPK66w",
        "outputId": "0bff3348-e544-484b-9267-8cbe3a72ed67"
      },
      "execution_count": 28,
      "outputs": [
        {
          "output_type": "execute_result",
          "data": {
            "text/plain": [
              "366"
            ]
          },
          "metadata": {},
          "execution_count": 28
        }
      ]
    },
    {
      "cell_type": "code",
      "source": [
        "from sklearn.metrics import confusion_matrix, classification_report\n",
        "\n",
        "# Assuming you have ground truth labels (true_labels) and predicted labels (predictions)\n",
        "true_labels = test_data.classes\n",
        "predicted_labels = (predictions > 0.5).astype(int)  # Adjust the threshold as needed\n",
        "\n",
        "# Calculate confusion matrix\n",
        "cm = confusion_matrix(true_labels, predicted_labels)\n",
        "\n",
        "# Print confusion matrix\n",
        "print(\"Confusion Matrix:\")\n",
        "print(cm)\n",
        "\n",
        "# Print classification report\n",
        "print(\"Classification Report:\")\n",
        "print(classification_report(true_labels, predicted_labels))"
      ],
      "metadata": {
        "colab": {
          "base_uri": "https://localhost:8080/"
        },
        "id": "z76bXvFOLAyf",
        "outputId": "6d58b403-ae58-4069-b2de-d9b59acb5b6e"
      },
      "execution_count": 29,
      "outputs": [
        {
          "output_type": "stream",
          "name": "stdout",
          "text": [
            "Confusion Matrix:\n",
            "[[ 67 116]\n",
            " [ 58 125]]\n",
            "Classification Report:\n",
            "              precision    recall  f1-score   support\n",
            "\n",
            "           0       0.54      0.37      0.44       183\n",
            "           1       0.52      0.68      0.59       183\n",
            "\n",
            "    accuracy                           0.52       366\n",
            "   macro avg       0.53      0.52      0.51       366\n",
            "weighted avg       0.53      0.52      0.51       366\n",
            "\n"
          ]
        }
      ]
    }
  ]
}